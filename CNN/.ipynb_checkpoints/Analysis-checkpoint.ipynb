{
 "cells": [
  {
   "cell_type": "code",
   "execution_count": 10,
   "metadata": {},
   "outputs": [
    {
     "ename": "ModuleNotFoundError",
     "evalue": "No module named 'confusion_matrix'",
     "output_type": "error",
     "traceback": [
      "\u001b[1;31m---------------------------------------------------------------------------\u001b[0m",
      "\u001b[1;31mModuleNotFoundError\u001b[0m                       Traceback (most recent call last)",
      "\u001b[1;32m<ipython-input-10-f339bfa536c1>\u001b[0m in \u001b[0;36m<module>\u001b[1;34m\u001b[0m\n\u001b[0;32m      3\u001b[0m \u001b[1;32mfrom\u001b[0m \u001b[0msklearn\u001b[0m\u001b[1;33m.\u001b[0m\u001b[0mmetrics\u001b[0m \u001b[1;32mimport\u001b[0m \u001b[0mclassification_report\u001b[0m\u001b[1;33m,\u001b[0m \u001b[0mconfusion_matrix\u001b[0m\u001b[1;33m\u001b[0m\u001b[1;33m\u001b[0m\u001b[0m\n\u001b[0;32m      4\u001b[0m \u001b[1;32mimport\u001b[0m \u001b[0mseaborn\u001b[0m \u001b[1;32mas\u001b[0m \u001b[0msns\u001b[0m\u001b[1;33m\u001b[0m\u001b[1;33m\u001b[0m\u001b[0m\n\u001b[1;32m----> 5\u001b[1;33m \u001b[1;32mfrom\u001b[0m \u001b[0mconfusion_matrix\u001b[0m \u001b[1;32mimport\u001b[0m \u001b[0mmake_confusion_matrix\u001b[0m\u001b[1;33m\u001b[0m\u001b[1;33m\u001b[0m\u001b[0m\n\u001b[0m",
      "\u001b[1;31mModuleNotFoundError\u001b[0m: No module named 'confusion_matrix'"
     ]
    }
   ],
   "source": [
    "import pandas as pd\n",
    "import numpy as np\n",
    "from sklearn.metrics import classification_report, confusion_matrix\n",
    "import seaborn as sns\n",
    "from confusion_matrix import make_confusion_matrix"
   ]
  },
  {
   "cell_type": "code",
   "execution_count": 8,
   "metadata": {},
   "outputs": [
    {
     "name": "stdout",
     "output_type": "stream",
     "text": [
      "              precision    recall  f1-score   support\n",
      "\n",
      "           0       0.61      1.00      0.76        17\n",
      "           1       1.00      0.42      0.59        19\n",
      "\n",
      "    accuracy                           0.69        36\n",
      "   macro avg       0.80      0.71      0.67        36\n",
      "weighted avg       0.81      0.69      0.67        36\n",
      "\n",
      "              precision    recall  f1-score   support\n",
      "\n",
      "           0       0.67      0.91      0.77        11\n",
      "           1       0.75      0.38      0.50         8\n",
      "\n",
      "    accuracy                           0.68        19\n",
      "   macro avg       0.71      0.64      0.63        19\n",
      "weighted avg       0.70      0.68      0.66        19\n",
      "\n"
     ]
    },
    {
     "data": {
      "image/png": "[encoded data removed]",
      "text/plain": [
       "<Figure size 432x288 with 2 Axes>"
      ]
     },
     "metadata": {
      "needs_background": "light"
     },
     "output_type": "display_data"
    }
   ],
   "source": [
    "mri_preds = pd.read_csv('C:/Users/Ben/Desktop/ADNI/processed_data/holdout_with_MRI_ensemble.csv')\n",
    "pet_preds = pd.read_csv('C:/Users/Ben/Desktop/ADNI/processed_data/holdout_with_PET_ensemble.csv')\n",
    "target = pd.read_csv('C:/Users/Ben/Desktop/ADNI/processed_data/holdout.csv')\n",
    "patient_preds = pd.DataFrame(np.array(pet_preds['PTID'].unique()), columns = ['PTID'])\n",
    "mri_score = []\n",
    "pet_score = []\n",
    "ad_conv = []\n",
    "for i in patient_preds['PTID']:\n",
    "    mri_score.append(np.mean(mri_preds[mri_preds['Subject'] == i]['MRI CNN Prediction']))\n",
    "    pet_score.append(np.mean(pet_preds[pet_preds['PTID'] == i]['PET CNN Prediction']))\n",
    "    ad_conv.append(np.mean(target[target['PTID'] == i]['AD_conv']))\n",
    "    \n",
    "patient_preds['MRI_Score'] = mri_score\n",
    "patient_preds['PET_Score'] = pet_score\n",
    "patient_preds['AD_Conv'] = ad_conv\n",
    "patient_preds['MRI_PET_Ensemble'] = patient_preds['MRI_Score']  + patient_preds['PET_Score']\n",
    "patient_preds['MRI_PET_Ensemble'] = (patient_preds['MRI_PET_Ensemble'] >= 1)/1\n",
    "conf1 = confusion_matrix(patient_preds['AD_Conv'], patient_preds['MRI_PET_Ensemble'])\n",
    "sns.heatmap(conf1, cmap = 'Blues')\n",
    "#print(classification_report(patient_preds['AD_Conv'], patient_preds['MRI_PET_Ensemble']))\n",
    "amyloid = pd.read_csv('C:/Users/Ben/Desktop/ADNI/processed_data/stage1_preds.csv')\n",
    "print(classification_report(amyloid['amyloid_pos'], amyloid['AD_conv']))\n",
    "amyloid_merge = amyloid.merge(patient_preds, on = 'PTID')\n",
    "amyloid_pos = amyloid_merge[amyloid_merge['amyloid_pos'] == 1]\n",
    "print(classification_report(amyloid_pos['AD_conv'], amyloid_pos['MRI_PET_Ensemble']))"
   ]
  }
 ],
 "metadata": {
  "kernelspec": {
   "display_name": "Python 3",
   "language": "python",
   "name": "python3"
  },
  "language_info": {
   "codemirror_mode": {
    "name": "ipython",
    "version": 3
   },
   "file_extension": ".py",
   "mimetype": "text/x-python",
   "name": "python",
   "nbconvert_exporter": "python",
   "pygments_lexer": "ipython3",
   "version": "3.7.6"
  }
 },
 "nbformat": 4,
 "nbformat_minor": 4
}
